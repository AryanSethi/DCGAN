{
 "cells": [
  {
   "cell_type": "code",
   "execution_count": 1,
   "metadata": {},
   "outputs": [],
   "source": [
    "from tensorflow.keras.models import Sequential\n",
    "from tensorflow.keras.layers import BatchNormalization,Conv2DTranspose,Conv2D,LeakyReLU,Activation,Flatten,Dense,Reshape\n",
    "import tensorflow as tf"
   ]
  },
  {
   "cell_type": "code",
   "execution_count": 10,
   "metadata": {},
   "outputs": [],
   "source": [
    "class DCGAN:\n",
    "    @staticmethod\n",
    "    def build_generator(dim, depth, channels=1, inputDim=100, outputDim=512):\n",
    "        model = Sequential()\n",
    "        inputShape = (dim, dim, depth)\n",
    "        chanDim = -1\n",
    "        model.add(Dense(input_dim=inputDim,units= outputDim))\n",
    "        model.add(Activation(\"relu\"))\n",
    "        model.add(BatchNormalization())\n",
    "        model.add(Dense(dim * dim * depth))\n",
    "        model.add(Activation(\"relu\"))\n",
    "        model.add(BatchNormalization())\n",
    "        model.add(Reshape(inputShape))\n",
    "        model.add(Conv2DTranspose(32,(5,5), strides=(2,2),padding='same'))\n",
    "        model.add(Activation(\"relu\"))\n",
    "        model.add(BatchNormalization(axis=chanDim))\n",
    "        model.add(Conv2DTranspose(channels, (5, 5), strides=(2, 2),padding=\"same\"))\n",
    "        model.add(Activation(\"tanh\"))\n",
    "        return model\n",
    "    \n",
    "    @staticmethod\n",
    "    def build_discriminator(width, height, depth, alpha=0.2):\n",
    "        model = Sequential()\n",
    "        inputShape = (height, width, depth)\n",
    "        model.add(Conv2D(32, (5, 5), padding=\"same\", strides=(2, 2),input_shape=inputShape))\n",
    "        model.add(LeakyReLU(alpha=alpha))\n",
    "        model.add(Conv2D(64, (5, 5), padding=\"same\", strides=(2, 2)))\n",
    "        model.add(LeakyReLU(alpha=alpha))\n",
    "        model.add(Flatten())\n",
    "        model.add(Dense(512))\n",
    "        model.add(LeakyReLU(alpha=alpha))\n",
    "        model.add(Dense(1))\n",
    "        model.add(Activation(\"sigmoid\"))\n",
    "        return model\n"
   ]
  },
  {
   "cell_type": "code",
   "execution_count": null,
   "metadata": {},
   "outputs": [],
   "source": []
  }
 ],
 "metadata": {
  "kernelspec": {
   "display_name": "Python 3",
   "language": "python",
   "name": "python3"
  },
  "language_info": {
   "codemirror_mode": {
    "name": "ipython",
    "version": 3
   },
   "file_extension": ".py",
   "mimetype": "text/x-python",
   "name": "python",
   "nbconvert_exporter": "python",
   "pygments_lexer": "ipython3",
   "version": "3.7.3"
  }
 },
 "nbformat": 4,
 "nbformat_minor": 4
}
